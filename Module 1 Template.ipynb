{
 "cells": [
  {
   "cell_type": "markdown",
   "id": "07d08828-39be-453d-9c15-7d0737ceb72f",
   "metadata": {},
   "source": [
    "# Module_1: Neurodegeneration\n",
    "## Team Members:\n",
    "Daniel G. Meredith\n",
    "\n",
    "## Project Title:\n",
    "Alzheimers \n",
    "\n"
   ]
  },
  {
   "cell_type": "markdown",
   "id": "8372d796-186a-4ae2-9b4f-0065979e555a",
   "metadata": {},
   "source": [
    "## Project Goal:\n",
    "This project seeks to... *(what is the purpose of your project -- i.e., describe the question that you seek to answer by analyzing data.)*"
   ]
  },
  {
   "attachments": {},
   "cell_type": "markdown",
   "id": "91408b75-185a-4d66-9ce7-7c7aabbde5e1",
   "metadata": {},
   "source": [
    "## Disease Background: \n",
    "*Fill in information about 11 bullets:*\n",
    "\n",
    "* Prevalence & incidence\n",
    "Meredith\n",
    "* Economic burden\n",
    "Daniel\n",
    "Global cost by 2030 is expected to be 2 trillion for care. Dependent on the severity of the disease, the annual range for one person in America is a wide range. For mild AD, it is 468.28 and for severe AD it is 138,023.97 per person in a year. These are based off the total (direct and indirect) treatment and \"loss of treatment time\". (https://www.sciencedirect.com/science/article/pii/S2212109923000948?via%3Dihub#sec3)\n",
    "* Risk factors (genetic, lifestyle) \n",
    "Meredith\n",
    "* Societal determinants\n",
    "Meredith\n",
    "* Symptoms\n",
    "Meredith\n",
    "* Diagnosis\n",
    "Daniel\n",
    "Begins with acknowledgement of symptoms, current lifestyle patterns, medications, history, overall health, and changes in behavior. With enough suspicion or request from the patient it is common to carry through with testing. Memory/Problem solving testing. Fluid testing to rule out other possible factors. Measure proteins associated with Alzheimers in CSF (cerebrospinal fluid). CT, PET, and MRI to solidify diagnosis from other tests. Looking for degradation of brain. (https://www.nia.nih.gov/health/alzheimers-symptoms-and-diagnosis/how-alzheimers-disease-diagnosed)\n",
    "* Standard of care treatments (& reimbursement) \n",
    "Meredith\n",
    "* Disease progression & prognosis\n",
    "Meredith\n",
    "* Continuum of care providers\n",
    "Daniel\n",
    "Beginning with a primary care provider suspison following questioning and gathering of previous medical history. After the diagnosis it is useful to set up with both neurologists near by and other memroy supportive teams to assist with individual living patterns. The most effective continuum of care providers are communities or organizations which support the patients with constant contact and the ability to go to their home. (https://www.hospicechesapeake.org/2022/06/continuum-of-care-offers-dementia-patients-better-quality-of-life/)\n",
    "* Biological mechanisms (anatomy, organ physiology, cell & molecular physiology)\n",
    "Daniel\n",
    "* Clinical Trials/next-gen therapies\n",
    "Daniel "
   ]
  },
  {
   "cell_type": "markdown",
   "id": "3b99aefb-cb03-4bd8-b972-437eb0e02dfe",
   "metadata": {},
   "source": [
    "## Data-Set: \n",
    "First data set \"UpdatedMetaData.csv\" gave a large ton of patients with diagnosed Alzheimers and information regarding the brain. \n",
    "import csv\n",
    "with open(\"UpdatedMetaData.csv\", newline=\"\") as f:\n",
    "    reader = csv.reader(f)\n",
    "    headers = next(reader)\n",
    "    for h in headers:\n",
    "        print(h)\n",
    "\n",
    "This code opened the csv within python, then seperated only the first row. This row consisted of the information gathered by each patient (sex, age, medical history, biomarkers, etc.) "
   ]
  },
  {
   "cell_type": "markdown",
   "id": "f4cde622-5508-4a54-aba8-77b454138bff",
   "metadata": {},
   "source": [
    "## Data Analyis: \n",
    "*(Describe how you analyzed the data. This is where you should intersperse your Python code so that anyone reading this can run your code to perform the analysis that you did, generate your figures, etc.)*"
   ]
  },
  {
   "cell_type": "markdown",
   "id": "5c67b6a4-ec94-4d28-b2a7-f6b860495118",
   "metadata": {},
   "source": [
    "## Verify and validate your analysis: \n",
    "*(Describe how you checked to see that your analysis gave you an answer that you believe (verify). Describe how your determined if your analysis gave you an answer that is supported by other evidence (e.g., a published paper).*"
   ]
  },
  {
   "cell_type": "markdown",
   "id": "2736cf95-2b93-444f-90c8-d40a54fc1df1",
   "metadata": {},
   "source": [
    "## Conclusions and Ethical Implications: \n",
    "*(Think about the answer your analysis generated, draw conclusions related to your overarching question, and discuss the ethical implications of your conclusions.*"
   ]
  },
  {
   "cell_type": "markdown",
   "id": "f023b735-6efb-43ed-a03d-eb4a9cdb734e",
   "metadata": {},
   "source": [
    "## Limitations and Future Work: \n",
    "*(Think about the answer your analysis generated, draw conclusions related to your overarching question, and discuss the ethical implications of your conclusions.*"
   ]
  }
 ],
 "metadata": {
  "kernelspec": {
   "display_name": "Python [conda env:base] *",
   "language": "python",
   "name": "conda-base-py"
  },
  "language_info": {
   "codemirror_mode": {
    "name": "ipython",
    "version": 3
   },
   "file_extension": ".py",
   "mimetype": "text/x-python",
   "name": "python",
   "nbconvert_exporter": "python",
   "pygments_lexer": "ipython3",
   "version": "3.13.5"
  }
 },
 "nbformat": 4,
 "nbformat_minor": 5
}
