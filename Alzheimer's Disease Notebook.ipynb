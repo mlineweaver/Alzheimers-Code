{
 "cells": [
  {
   "cell_type": "markdown",
   "id": "07d08828-39be-453d-9c15-7d0737ceb72f",
   "metadata": {},
   "source": [
    "# Module_1: Alzheimer's Disease\n",
    "\n",
    "## Team Members:\n",
    "Daniel Garcia-Soliz and Meredith Lineweaver\n",
    "\n",
    "## Project Title:\n",
    "Alheimer's Disease and Gender\n",
    "\n",
    "\n"
   ]
  },
  {
   "cell_type": "markdown",
   "id": "8372d796-186a-4ae2-9b4f-0065979e555a",
   "metadata": {},
   "source": [
    "## Project Goal:\n",
    "This project seeks to analyze given data sets to determine if females have higher ratios of ABeta40, ABeta42, tTAU, and pTAU in their brains. "
   ]
  },
  {
   "attachments": {},
   "cell_type": "markdown",
   "id": "91408b75-185a-4d66-9ce7-7c7aabbde5e1",
   "metadata": {},
   "source": [
    "## Disease Background: \n",
    "*Fill in information about 11 bullets:*\n",
    "\n",
    "* Prevalence & incidence:\n",
    "    * Over 7 million Americans have Alzheimer's Diseas. \n",
    "    * 1 in 9 people that are 65 years of age or older.\n",
    "    * 200,000 American have younger-onset dementia (age 30-64 years)\n",
    "    * Approximately 500,000 people were diagnosed with Alzheimer's in 2024\n",
    "* Economic burden:\n",
    "    * Global cost by 2030 is expected to be 2 trillion for care. Dependent on the severity of the disease, the annual range for one person in America is a wide range. For mild AD, it is 468.28 and for severe AD it is 138,023.97 per person in a year. These are based off the total (direct and indirect) treatment and \"loss of treatment time\". (https://www.sciencedirect.com/science/article/pii/S2212109923000948?via%3Dihub#sec3)\n",
    "* Risk factors (genetic, lifestyle) \n",
    "    * 2/3 of Americans with Alzheimer's are women. \n",
    "    * Older Black women are almost 2x as likely and older Hispanics are 1.5x as likely to have Alzheimer's or other dementias as older whites.\n",
    "    * The greatest risk if increasing age. \n",
    "    * Family history, the risk increase with each family member that has the illness.\n",
    "    * Bad sleep habits, smoking, hypertension, and diabetes. \n",
    "    * Head injury. \n",
    "* Societal determinants\n",
    "* Symptoms\n",
    "* Diagnosis:\n",
    "    * Begins with acknowledgement of symptoms, current lifestyle patterns, medications, history, overall health, and changes in behavior. With enough suspicion or request from the patient it is common to carry through with testing. Memory/Problem solving testing. Fluid testing to rule out other possible factors. Measure proteins associated with Alzheimers in CSF (cerebrospinal fluid). CT, PET, and MRI to solidify diagnosis from other tests. Looking for degradation of brain. (https://www.nia.nih.gov/health/alzheimers-symptoms-and-diagnosis/how-alzheimers-disease-diagnosed)\n",
    "* Standard of care treatments (& reimbursement):\n",
    "    * 12 million Americans provide unpaid care for a family member or friend with dementias.\n",
    "    * The value of unpaid care hours is valued at $413.5 billion. \n",
    "    * 30% of caregivers are age 65 or older. \n",
    "    * Over 1/3 of dementia caregivers are daughters. \n",
    "    * Most caregivers live with the person with dementia. \n",
    "    * 70% of the lifetime cost of caring for someone with dementia is covered by familites. \n",
    "    * There are not enough dementia care specialists in 55% of communities. \n",
    "* Disease progression & prognosis: \n",
    "    * 1/3 older Americans dies with Alzheimer's or another dementia. \n",
    "    * 6th leading cause of death among people age 65 and older in 2022. \n",
    "    * 5 stages: preclinical, mild cognitive impairment, mild dementia, moderate dementia, severe dementia\n",
    "    * Alheimer's disease is often diagnosed in the mild dementia stage \n",
    "    * People with Alzheimer's live between 3 and 11 years after diagnosis, but some can live 20 years or more. \n",
    "    * Prognosis depends on how far the disease has advanced when diagnosed. \n",
    "    * Untreated vascular risk factors, like high blood pressure, are associated with a faster rate of progression of the disease. \n",
    "* Continuum of care providers:\n",
    "    * Beginning with a primary care provider suspison following questioning and gathering of previous medical history. After the diagnosis it is useful to set up with both neurologists near by and other memroy supportive teams to assist with individual living patterns. The most effective continuum of care providers are communities or organizations which support the patients with constant contact and the ability to go to their home. (https://www.hospicechesapeake.org/2022/06/continuum-of-care-offers-dementia-patients-better-quality-of-life/)\n",
    "* Biological mechanisms (anatomy, organ physiology, cell & molecular physiology)\n",
    "* Clinical Trials/next-gen therapies\n",
    "\n",
    "Sources:\n",
    "https://www.alz.org/alzheimers-dementia/facts-figures\n",
    "https://www.mayoclinic.org/diseases-conditions/alzheimers-disease/in-depth/alzheimers-stages/art-20048448"
   ]
  },
  {
   "cell_type": "markdown",
   "id": "3b99aefb-cb03-4bd8-b972-437eb0e02dfe",
   "metadata": {},
   "source": [
    "## Data-Set: \n",
    "The source of this data is from a paper published on October 14, 2024 by nature neuroscience titled \"Integrated multimodal cell atlas of Alheimer's disease\". There are two data sets for this project. Both data sets studied 84 donors, 51 female and 33 male. The data set titled UpdatedMetaData.csv provides demographic and medical history of the donors. The file named UpdatedLuminex.csv provides a ratio for ABeta40, ABeta42, tTAU, and pTAU mass.  The authors of this study found their results by generating quantitative neuropathological measurement, single-nucleus RNA sequencing, and cellularly resolved spatial transcriptomics. The profiled 3.4 million high-quality nuclei, mapping each one to a molecular cell type from the BRAIN Initiative MTG cellular taxonomy. \n",
    "\n",
    "Link to the source of the data sets: https://doi.org/10.1038/s41593-024-01774-5"
   ]
  },
  {
   "cell_type": "markdown",
   "id": "f4cde622-5508-4a54-aba8-77b454138bff",
   "metadata": {},
   "source": [
    "## Data Analyis: \n",
    "*(Describe how you analyzed the data. This is where you should intersperse your Python code so that anyone reading this can run your code to perform the analysis that you did, generate your figures, etc.)*"
   ]
  },
  {
   "cell_type": "markdown",
   "id": "5c67b6a4-ec94-4d28-b2a7-f6b860495118",
   "metadata": {},
   "source": [
    "## Verify and validate your analysis: \n",
    "*(Describe how you checked to see that your analysis gave you an answer that you believe (verify). Describe how your determined if your analysis gave you an answer that is supported by other evidence (e.g., a published paper).*"
   ]
  },
  {
   "cell_type": "markdown",
   "id": "2736cf95-2b93-444f-90c8-d40a54fc1df1",
   "metadata": {},
   "source": [
    "## Conclusions and Ethical Implications: \n",
    "*(Think about the answer your analysis generated, draw conclusions related to your overarching question, and discuss the ethical implications of your conclusions.*"
   ]
  },
  {
   "cell_type": "markdown",
   "id": "f023b735-6efb-43ed-a03d-eb4a9cdb734e",
   "metadata": {},
   "source": [
    "## Limitations and Future Work: \n",
    "*(Think about the answer your analysis generated, draw conclusions related to your overarching question, and discuss the ethical implications of your conclusions.*"
   ]
  },
  {
   "cell_type": "markdown",
   "id": "d9295960-2404-43dc-b46f-9a6f823f1657",
   "metadata": {},
   "source": [
    "## NOTES FROM YOUR TEAM: \n",
    "*This is where our team is taking notes and recording activity.*"
   ]
  },
  {
   "cell_type": "markdown",
   "id": "bd725b7f-9741-46b6-a213-9518da9201c3",
   "metadata": {},
   "source": [
    "## QUESTIONS FOR YOUR TA: \n",
    "*These are questions we have for our TA.*"
   ]
  },
  {
   "cell_type": "code",
   "execution_count": null,
   "id": "0d0190cf-c056-4b2c-a0c0-a56dfb854a55",
   "metadata": {},
   "outputs": [],
   "source": []
  }
 ],
 "metadata": {
  "kernelspec": {
   "display_name": "Python [conda env:base] *",
   "language": "python",
   "name": "conda-base-py"
  },
  "language_info": {
   "codemirror_mode": {
    "name": "ipython",
    "version": 3
   },
   "file_extension": ".py",
   "mimetype": "text/x-python",
   "name": "python",
   "nbconvert_exporter": "python",
   "pygments_lexer": "ipython3",
   "version": "3.13.5"
  }
 },
 "nbformat": 4,
 "nbformat_minor": 5
}
